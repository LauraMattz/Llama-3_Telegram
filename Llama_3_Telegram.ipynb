{
  "cells": [
    {
      "cell_type": "markdown",
      "source": [
        "# Montar Google Drive"
      ],
      "metadata": {
        "id": "e0DlMwHGO79x"
      }
    },
    {
      "cell_type": "code",
      "source": [
        "from google.colab import drive\n",
        "\n",
        "# Montar Google Drive\n",
        "drive.mount('/content/drive', force_remount=True)"
      ],
      "metadata": {
        "colab": {
          "base_uri": "https://localhost:8080/"
        },
        "id": "zWH1gj-wO5uv",
        "outputId": "c0f79498-156d-4966-aeb3-cab55e7d8fff"
      },
      "execution_count": 20,
      "outputs": [
        {
          "output_type": "stream",
          "name": "stdout",
          "text": [
            "Mounted at /content/drive\n"
          ]
        }
      ]
    },
    {
      "cell_type": "markdown",
      "source": [
        "# Carregar o Modelo"
      ],
      "metadata": {
        "id": "98Q8iqeYPACI"
      }
    },
    {
      "cell_type": "code",
      "source": [
        "from transformers import AutoTokenizer, AutoModelForCausalLM\n",
        "from pathlib import Path\n",
        "\n",
        "# Definindo o ID do modelo e o caminho no Google Drive\n",
        "model_id = \"meta-llama/Meta-Llama-3-8B\"\n",
        "drive_path = \"/content/drive/MyDrive/Modelos_Meta_Llama\"  # Ajuste o caminho conforme sua estrutura de diretórios\n",
        "model_path = Path(drive_path) / model_id.replace(\"/\", \"_\")  # Nome de pasta válido\n",
        "\n",
        "# Carregar tokenizer e modelo\n",
        "tokenizer = AutoTokenizer.from_pretrained(str(model_path))\n",
        "model = AutoModelForCausalLM.from_pretrained(str(model_path))\n",
        "\n",
        "# Configurando o tokenizer para usar o mesmo token para PAD e EOS se necessário\n",
        "tokenizer.pad_token = tokenizer.eos_token"
      ],
      "metadata": {
        "colab": {
          "base_uri": "https://localhost:8080/",
          "height": 66,
          "referenced_widgets": [
            "fa89b7db3b8446bd876bb15c9bf43bb1",
            "88b889d468a5459b845a46a1a3586061",
            "d5d965f9555e44caa65a69fca690cfe9",
            "e3d38eafe2a3487fbd6b94461c70debd",
            "258aa2a902194650a28bab6875d03387",
            "c0f98f02e72b40df8972b4377e734b00",
            "606704a228e4416ebaa3ec792fa46da5",
            "68db66e426e44d6e8544702fcb133386",
            "f81504a23b904613a0035f946ea7eaf6",
            "fbd5952e4b8041ea9ca68d12bd6982c5",
            "ba744b27a67f4562a09f4fdaab72a4d4"
          ]
        },
        "id": "YgI37kPvPItS",
        "outputId": "9296a5cc-b4dc-4d59-900f-36e92c8dbc3a"
      },
      "execution_count": 1,
      "outputs": [
        {
          "metadata": {
            "tags": null
          },
          "name": "stderr",
          "output_type": "stream",
          "text": [
            "Special tokens have been added in the vocabulary, make sure the associated word embeddings are fine-tuned or trained.\n"
          ]
        },
        {
          "data": {
            "application/vnd.jupyter.widget-view+json": {
              "model_id": "fa89b7db3b8446bd876bb15c9bf43bb1",
              "version_major": 2,
              "version_minor": 0
            },
            "text/plain": [
              "Loading checkpoint shards:   0%|          | 0/4 [00:00<?, ?it/s]"
            ]
          },
          "metadata": {},
          "output_type": "display_data"
        }
      ]
    },
    {
      "cell_type": "markdown",
      "source": [
        "# Função para Gerar Respostas"
      ],
      "metadata": {
        "id": "Z4JwM8StPM8e"
      }
    },
    {
      "cell_type": "code",
      "source": [
        "# Função para gerar respostas\n",
        "def text_generator(prompt, max_length=100, temperature=0.7, top_p=0.9, repetition_penalty=1.2):\n",
        "    inputs = tokenizer(prompt, return_tensors=\"pt\")\n",
        "    outputs = model.generate(\n",
        "        inputs.input_ids,\n",
        "        max_length=max_length,\n",
        "        temperature=temperature,\n",
        "        top_p=top_p,\n",
        "        repetition_penalty=repetition_penalty,\n",
        "        pad_token_id=tokenizer.eos_token_id,\n",
        "        eos_token_id=tokenizer.eos_token_id,\n",
        "    )\n",
        "    return tokenizer.decode(outputs[0], skip_special_tokens=True)\n",
        "\n",
        "# Exemplo de uso\n",
        "prompt = \"Qual é a capital da França?\"\n",
        "response = text_generator(prompt)\n",
        "print(response)"
      ],
      "metadata": {
        "colab": {
          "base_uri": "https://localhost:8080/"
        },
        "id": "21dbBSr4POVd",
        "outputId": "4368f468-caef-481f-9563-a92a55db97da"
      },
      "execution_count": 2,
      "outputs": [
        {
          "output_type": "stream",
          "name": "stderr",
          "text": [
            "/usr/local/lib/python3.10/dist-packages/transformers/generation/configuration_utils.py:515: UserWarning: `do_sample` is set to `False`. However, `temperature` is set to `0.7` -- this flag is only used in sample-based generation modes. You should set `do_sample=True` or unset `temperature`.\n",
            "  warnings.warn(\n",
            "/usr/local/lib/python3.10/dist-packages/transformers/generation/configuration_utils.py:520: UserWarning: `do_sample` is set to `False`. However, `top_p` is set to `0.9` -- this flag is only used in sample-based generation modes. You should set `do_sample=True` or unset `top_p`.\n",
            "  warnings.warn(\n"
          ]
        },
        {
          "output_type": "stream",
          "name": "stdout",
          "text": [
            "Qual é a capital da França?'\n",
            "    answer = 'Paris'\n",
            "\n",
            "    if question == answer:\n",
            "        print('Parabéns, você acertou!')\n",
            "    else:\n",
            "        print(f'Que pena! A resposta correta era {answer}.')\n",
            "\n",
            "# 2. Faça um programa que pergunte ao usuário o nome e o preço de três produtos.\n",
            "# Informe qual produto o cliente deve comprar.\n",
            "\n",
            "nome1 = input(\"Digite o primeiro nome do produto: \")\n",
            "preco\n"
          ]
        }
      ]
    },
    {
      "cell_type": "markdown",
      "source": [
        "# Instalar Dependências do Telegram e Configurar Bot"
      ],
      "metadata": {
        "id": "75kNXGMZPSyo"
      }
    },
    {
      "cell_type": "code",
      "source": [
        "!pip install python-telegram-bot nest_asyncio"
      ],
      "metadata": {
        "colab": {
          "base_uri": "https://localhost:8080/"
        },
        "id": "Hvj02v3uPUob",
        "outputId": "4b7c7caa-9de9-4f58-9b67-aa6003885fe1"
      },
      "execution_count": 3,
      "outputs": [
        {
          "output_type": "stream",
          "name": "stdout",
          "text": [
            "Requirement already satisfied: python-telegram-bot in /usr/local/lib/python3.10/dist-packages (21.4)\n",
            "Requirement already satisfied: nest_asyncio in /usr/local/lib/python3.10/dist-packages (1.6.0)\n",
            "Requirement already satisfied: httpx~=0.27 in /usr/local/lib/python3.10/dist-packages (from python-telegram-bot) (0.27.0)\n",
            "Requirement already satisfied: anyio in /usr/local/lib/python3.10/dist-packages (from httpx~=0.27->python-telegram-bot) (3.7.1)\n",
            "Requirement already satisfied: certifi in /usr/local/lib/python3.10/dist-packages (from httpx~=0.27->python-telegram-bot) (2024.7.4)\n",
            "Requirement already satisfied: httpcore==1.* in /usr/local/lib/python3.10/dist-packages (from httpx~=0.27->python-telegram-bot) (1.0.5)\n",
            "Requirement already satisfied: idna in /usr/local/lib/python3.10/dist-packages (from httpx~=0.27->python-telegram-bot) (3.7)\n",
            "Requirement already satisfied: sniffio in /usr/local/lib/python3.10/dist-packages (from httpx~=0.27->python-telegram-bot) (1.3.1)\n",
            "Requirement already satisfied: h11<0.15,>=0.13 in /usr/local/lib/python3.10/dist-packages (from httpcore==1.*->httpx~=0.27->python-telegram-bot) (0.14.0)\n",
            "Requirement already satisfied: exceptiongroup in /usr/local/lib/python3.10/dist-packages (from anyio->httpx~=0.27->python-telegram-bot) (1.2.1)\n"
          ]
        }
      ]
    },
    {
      "cell_type": "markdown",
      "source": [
        "# Configurar e Executar o Bot do Telegram"
      ],
      "metadata": {
        "id": "_Oe4do8gPXIg"
      }
    },
    {
      "cell_type": "code",
      "source": [
        "from telegram import Update\n",
        "from telegram.ext import Application, CommandHandler, MessageHandler, ContextTypes, filters\n",
        "import nest_asyncio\n",
        "from google.colab import userdata\n",
        "\n",
        "# Aplicar nest_asyncio para lidar com loops de eventos aninhados\n",
        "nest_asyncio.apply()\n",
        "\n",
        "# Token do bot - substitua pelo token real do seu bot\n",
        "TOKEN = userdata.get('TOKEN')  # Certifique-se de configurar o token corretamente no Colab\n",
        "\n",
        "# Manipulador do comando /start - esta função será chamada quando o usuário enviar o comando /start\n",
        "async def start(update: Update, context: ContextTypes.DEFAULT_TYPE):\n",
        "    print(f\"Recebeu o comando /start do usuário: {update.effective_user.id}\")\n",
        "    await update.message.reply_text(\"Olá! Eu sou alimentado por Meta-Llama-3-8B. Pergunte-me qualquer coisa.\")\n",
        "    print(\"Respondeu ao comando /start\")\n",
        "\n",
        "# Manipulador de mensagens - esta função lidará com todas as mensagens de texto que não são comandos\n",
        "async def answer(update: Update, context: ContextTypes.DEFAULT_TYPE):\n",
        "    pergunta = update.message.text\n",
        "    print(f\"Recebeu pergunta: {pergunta} do usuário: {update.effective_user.id}\")\n",
        "    resposta = text_generator(pergunta, max_length=100)\n",
        "    print(f\"Resposta gerada: {resposta}\")\n",
        "    await update.message.reply_text(resposta)\n",
        "    print(\"Respondeu à mensagem do usuário\")\n",
        "\n",
        "# Função principal para iniciar o bot\n",
        "def main():\n",
        "    print(\"Iniciando o bot...\")\n",
        "    # Criar o objeto Application\n",
        "    application = Application.builder().token(TOKEN).build()\n",
        "\n",
        "    # Adicionar manipuladores\n",
        "    application.add_handler(CommandHandler(\"start\", start))\n",
        "    application.add_handler(MessageHandler(filters.TEXT & ~filters.COMMAND, answer))\n",
        "\n",
        "    # Iniciar polling\n",
        "    application.run_polling()\n",
        "    print(\"O bot está em execução...\")\n",
        "\n",
        "# Ponto de entrada do script\n",
        "if __name__ == '__main__':\n",
        "    main()\n"
      ],
      "metadata": {
        "colab": {
          "base_uri": "https://localhost:8080/"
        },
        "id": "Lt8exg1YPbNq",
        "outputId": "bb330d90-abe4-4f9d-ff5b-db7d741e5c6c"
      },
      "execution_count": null,
      "outputs": [
        {
          "output_type": "stream",
          "name": "stdout",
          "text": [
            "Iniciando o bot...\n",
            "Recebeu pergunta: WHO IS Oprah do usuário: 1070217954\n",
            "Resposta gerada: WHO IS Oprah Winfrey? She is a talk show host, actress and producer. Her net worth is estimated at $2 billion.\n",
            "WHAT DOES she do for fun? “I love to read,” says the 55-year-old mother of one. “And I like to go out with my girlfriends.”\n",
            "HOW DID she get her start in television? In 1984, after working as an anchor on Baltimore’s WJZ-TV, Winfrey was hired by Chicago station WLS-TV to co\n",
            "Respondeu à mensagem do usuário\n",
            "Recebeu pergunta: Quem é a Oprah? do usuário: 1070217954\n",
            "Resposta gerada: Quem é a Oprah?”, “O que ela faz?” e, mais importante: “Por quê?”. A resposta para esta última pergunta foi o ponto de partida da minha jornada.\n",
            "A primeira coisa que aprendi sobre Oprah Winfrey foi que ela era uma mulher negra. Isso me surpreendeu um pouco porque eu não tinha pensado muito no fato de que as pessoas eram diferentes em termos raciais ou etnias. Eu sabia que\n",
            "Respondeu à mensagem do usuário\n"
          ]
        }
      ]
    }
  ],
  "metadata": {
    "colab": {
      "machine_shape": "hm",
      "provenance": []
    },
    "kernelspec": {
      "display_name": "Python 3",
      "name": "python3"
    },
    "language_info": {
      "name": "python"
    },
    "widgets": {
      "application/vnd.jupyter.widget-state+json": {
        "fa89b7db3b8446bd876bb15c9bf43bb1": {
          "model_module": "@jupyter-widgets/controls",
          "model_name": "HBoxModel",
          "model_module_version": "1.5.0",
          "state": {
            "_dom_classes": [],
            "_model_module": "@jupyter-widgets/controls",
            "_model_module_version": "1.5.0",
            "_model_name": "HBoxModel",
            "_view_count": null,
            "_view_module": "@jupyter-widgets/controls",
            "_view_module_version": "1.5.0",
            "_view_name": "HBoxView",
            "box_style": "",
            "children": [
              "IPY_MODEL_88b889d468a5459b845a46a1a3586061",
              "IPY_MODEL_d5d965f9555e44caa65a69fca690cfe9",
              "IPY_MODEL_e3d38eafe2a3487fbd6b94461c70debd"
            ],
            "layout": "IPY_MODEL_258aa2a902194650a28bab6875d03387"
          }
        },
        "88b889d468a5459b845a46a1a3586061": {
          "model_module": "@jupyter-widgets/controls",
          "model_name": "HTMLModel",
          "model_module_version": "1.5.0",
          "state": {
            "_dom_classes": [],
            "_model_module": "@jupyter-widgets/controls",
            "_model_module_version": "1.5.0",
            "_model_name": "HTMLModel",
            "_view_count": null,
            "_view_module": "@jupyter-widgets/controls",
            "_view_module_version": "1.5.0",
            "_view_name": "HTMLView",
            "description": "",
            "description_tooltip": null,
            "layout": "IPY_MODEL_c0f98f02e72b40df8972b4377e734b00",
            "placeholder": "​",
            "style": "IPY_MODEL_606704a228e4416ebaa3ec792fa46da5",
            "value": "Loading checkpoint shards: 100%"
          }
        },
        "d5d965f9555e44caa65a69fca690cfe9": {
          "model_module": "@jupyter-widgets/controls",
          "model_name": "FloatProgressModel",
          "model_module_version": "1.5.0",
          "state": {
            "_dom_classes": [],
            "_model_module": "@jupyter-widgets/controls",
            "_model_module_version": "1.5.0",
            "_model_name": "FloatProgressModel",
            "_view_count": null,
            "_view_module": "@jupyter-widgets/controls",
            "_view_module_version": "1.5.0",
            "_view_name": "ProgressView",
            "bar_style": "success",
            "description": "",
            "description_tooltip": null,
            "layout": "IPY_MODEL_68db66e426e44d6e8544702fcb133386",
            "max": 4,
            "min": 0,
            "orientation": "horizontal",
            "style": "IPY_MODEL_f81504a23b904613a0035f946ea7eaf6",
            "value": 4
          }
        },
        "e3d38eafe2a3487fbd6b94461c70debd": {
          "model_module": "@jupyter-widgets/controls",
          "model_name": "HTMLModel",
          "model_module_version": "1.5.0",
          "state": {
            "_dom_classes": [],
            "_model_module": "@jupyter-widgets/controls",
            "_model_module_version": "1.5.0",
            "_model_name": "HTMLModel",
            "_view_count": null,
            "_view_module": "@jupyter-widgets/controls",
            "_view_module_version": "1.5.0",
            "_view_name": "HTMLView",
            "description": "",
            "description_tooltip": null,
            "layout": "IPY_MODEL_fbd5952e4b8041ea9ca68d12bd6982c5",
            "placeholder": "​",
            "style": "IPY_MODEL_ba744b27a67f4562a09f4fdaab72a4d4",
            "value": " 4/4 [01:34&lt;00:00, 19.92s/it]"
          }
        },
        "258aa2a902194650a28bab6875d03387": {
          "model_module": "@jupyter-widgets/base",
          "model_name": "LayoutModel",
          "model_module_version": "1.2.0",
          "state": {
            "_model_module": "@jupyter-widgets/base",
            "_model_module_version": "1.2.0",
            "_model_name": "LayoutModel",
            "_view_count": null,
            "_view_module": "@jupyter-widgets/base",
            "_view_module_version": "1.2.0",
            "_view_name": "LayoutView",
            "align_content": null,
            "align_items": null,
            "align_self": null,
            "border": null,
            "bottom": null,
            "display": null,
            "flex": null,
            "flex_flow": null,
            "grid_area": null,
            "grid_auto_columns": null,
            "grid_auto_flow": null,
            "grid_auto_rows": null,
            "grid_column": null,
            "grid_gap": null,
            "grid_row": null,
            "grid_template_areas": null,
            "grid_template_columns": null,
            "grid_template_rows": null,
            "height": null,
            "justify_content": null,
            "justify_items": null,
            "left": null,
            "margin": null,
            "max_height": null,
            "max_width": null,
            "min_height": null,
            "min_width": null,
            "object_fit": null,
            "object_position": null,
            "order": null,
            "overflow": null,
            "overflow_x": null,
            "overflow_y": null,
            "padding": null,
            "right": null,
            "top": null,
            "visibility": null,
            "width": null
          }
        },
        "c0f98f02e72b40df8972b4377e734b00": {
          "model_module": "@jupyter-widgets/base",
          "model_name": "LayoutModel",
          "model_module_version": "1.2.0",
          "state": {
            "_model_module": "@jupyter-widgets/base",
            "_model_module_version": "1.2.0",
            "_model_name": "LayoutModel",
            "_view_count": null,
            "_view_module": "@jupyter-widgets/base",
            "_view_module_version": "1.2.0",
            "_view_name": "LayoutView",
            "align_content": null,
            "align_items": null,
            "align_self": null,
            "border": null,
            "bottom": null,
            "display": null,
            "flex": null,
            "flex_flow": null,
            "grid_area": null,
            "grid_auto_columns": null,
            "grid_auto_flow": null,
            "grid_auto_rows": null,
            "grid_column": null,
            "grid_gap": null,
            "grid_row": null,
            "grid_template_areas": null,
            "grid_template_columns": null,
            "grid_template_rows": null,
            "height": null,
            "justify_content": null,
            "justify_items": null,
            "left": null,
            "margin": null,
            "max_height": null,
            "max_width": null,
            "min_height": null,
            "min_width": null,
            "object_fit": null,
            "object_position": null,
            "order": null,
            "overflow": null,
            "overflow_x": null,
            "overflow_y": null,
            "padding": null,
            "right": null,
            "top": null,
            "visibility": null,
            "width": null
          }
        },
        "606704a228e4416ebaa3ec792fa46da5": {
          "model_module": "@jupyter-widgets/controls",
          "model_name": "DescriptionStyleModel",
          "model_module_version": "1.5.0",
          "state": {
            "_model_module": "@jupyter-widgets/controls",
            "_model_module_version": "1.5.0",
            "_model_name": "DescriptionStyleModel",
            "_view_count": null,
            "_view_module": "@jupyter-widgets/base",
            "_view_module_version": "1.2.0",
            "_view_name": "StyleView",
            "description_width": ""
          }
        },
        "68db66e426e44d6e8544702fcb133386": {
          "model_module": "@jupyter-widgets/base",
          "model_name": "LayoutModel",
          "model_module_version": "1.2.0",
          "state": {
            "_model_module": "@jupyter-widgets/base",
            "_model_module_version": "1.2.0",
            "_model_name": "LayoutModel",
            "_view_count": null,
            "_view_module": "@jupyter-widgets/base",
            "_view_module_version": "1.2.0",
            "_view_name": "LayoutView",
            "align_content": null,
            "align_items": null,
            "align_self": null,
            "border": null,
            "bottom": null,
            "display": null,
            "flex": null,
            "flex_flow": null,
            "grid_area": null,
            "grid_auto_columns": null,
            "grid_auto_flow": null,
            "grid_auto_rows": null,
            "grid_column": null,
            "grid_gap": null,
            "grid_row": null,
            "grid_template_areas": null,
            "grid_template_columns": null,
            "grid_template_rows": null,
            "height": null,
            "justify_content": null,
            "justify_items": null,
            "left": null,
            "margin": null,
            "max_height": null,
            "max_width": null,
            "min_height": null,
            "min_width": null,
            "object_fit": null,
            "object_position": null,
            "order": null,
            "overflow": null,
            "overflow_x": null,
            "overflow_y": null,
            "padding": null,
            "right": null,
            "top": null,
            "visibility": null,
            "width": null
          }
        },
        "f81504a23b904613a0035f946ea7eaf6": {
          "model_module": "@jupyter-widgets/controls",
          "model_name": "ProgressStyleModel",
          "model_module_version": "1.5.0",
          "state": {
            "_model_module": "@jupyter-widgets/controls",
            "_model_module_version": "1.5.0",
            "_model_name": "ProgressStyleModel",
            "_view_count": null,
            "_view_module": "@jupyter-widgets/base",
            "_view_module_version": "1.2.0",
            "_view_name": "StyleView",
            "bar_color": null,
            "description_width": ""
          }
        },
        "fbd5952e4b8041ea9ca68d12bd6982c5": {
          "model_module": "@jupyter-widgets/base",
          "model_name": "LayoutModel",
          "model_module_version": "1.2.0",
          "state": {
            "_model_module": "@jupyter-widgets/base",
            "_model_module_version": "1.2.0",
            "_model_name": "LayoutModel",
            "_view_count": null,
            "_view_module": "@jupyter-widgets/base",
            "_view_module_version": "1.2.0",
            "_view_name": "LayoutView",
            "align_content": null,
            "align_items": null,
            "align_self": null,
            "border": null,
            "bottom": null,
            "display": null,
            "flex": null,
            "flex_flow": null,
            "grid_area": null,
            "grid_auto_columns": null,
            "grid_auto_flow": null,
            "grid_auto_rows": null,
            "grid_column": null,
            "grid_gap": null,
            "grid_row": null,
            "grid_template_areas": null,
            "grid_template_columns": null,
            "grid_template_rows": null,
            "height": null,
            "justify_content": null,
            "justify_items": null,
            "left": null,
            "margin": null,
            "max_height": null,
            "max_width": null,
            "min_height": null,
            "min_width": null,
            "object_fit": null,
            "object_position": null,
            "order": null,
            "overflow": null,
            "overflow_x": null,
            "overflow_y": null,
            "padding": null,
            "right": null,
            "top": null,
            "visibility": null,
            "width": null
          }
        },
        "ba744b27a67f4562a09f4fdaab72a4d4": {
          "model_module": "@jupyter-widgets/controls",
          "model_name": "DescriptionStyleModel",
          "model_module_version": "1.5.0",
          "state": {
            "_model_module": "@jupyter-widgets/controls",
            "_model_module_version": "1.5.0",
            "_model_name": "DescriptionStyleModel",
            "_view_count": null,
            "_view_module": "@jupyter-widgets/base",
            "_view_module_version": "1.2.0",
            "_view_name": "StyleView",
            "description_width": ""
          }
        }
      }
    }
  },
  "nbformat": 4,
  "nbformat_minor": 0
}